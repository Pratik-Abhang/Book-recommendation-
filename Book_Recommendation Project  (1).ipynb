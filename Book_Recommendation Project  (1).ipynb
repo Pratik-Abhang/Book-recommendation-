{
 "cells": [
  {
   "cell_type": "code",
   "execution_count": 1,
   "id": "17c497e5",
   "metadata": {},
   "outputs": [],
   "source": [
    "import pandas as pd \n",
    "import matplotlib.pyplot as plt \n",
    "import seaborn as sns \n",
    "import numpy as np"
   ]
  },
  {
   "cell_type": "code",
   "execution_count": 2,
   "id": "a44f9109",
   "metadata": {},
   "outputs": [],
   "source": [
    "df = pd.read_csv(\"Book_Data_Final.csv\")"
   ]
  },
  {
   "cell_type": "code",
   "execution_count": 3,
   "id": "6deac488",
   "metadata": {},
   "outputs": [
    {
     "data": {
      "text/plain": [
       "Unnamed: 0      0\n",
       "URL             0\n",
       "Book_Name       0\n",
       "Author          0\n",
       "Price           0\n",
       "Genre           0\n",
       "Category        0\n",
       "Sub-Category    0\n",
       "combine         0\n",
       "dtype: int64"
      ]
     },
     "execution_count": 3,
     "metadata": {},
     "output_type": "execute_result"
    }
   ],
   "source": [
    "df.isna().sum()"
   ]
  },
  {
   "cell_type": "code",
   "execution_count": 4,
   "id": "c41390c7",
   "metadata": {},
   "outputs": [
    {
     "data": {
      "text/html": [
       "<div>\n",
       "<style scoped>\n",
       "    .dataframe tbody tr th:only-of-type {\n",
       "        vertical-align: middle;\n",
       "    }\n",
       "\n",
       "    .dataframe tbody tr th {\n",
       "        vertical-align: top;\n",
       "    }\n",
       "\n",
       "    .dataframe thead th {\n",
       "        text-align: right;\n",
       "    }\n",
       "</style>\n",
       "<table border=\"1\" class=\"dataframe\">\n",
       "  <thead>\n",
       "    <tr style=\"text-align: right;\">\n",
       "      <th></th>\n",
       "      <th>Unnamed: 0</th>\n",
       "      <th>URL</th>\n",
       "      <th>Book_Name</th>\n",
       "      <th>Author</th>\n",
       "      <th>Price</th>\n",
       "      <th>Genre</th>\n",
       "      <th>Category</th>\n",
       "      <th>Sub-Category</th>\n",
       "      <th>combine</th>\n",
       "    </tr>\n",
       "  </thead>\n",
       "  <tbody>\n",
       "    <tr>\n",
       "      <th>0</th>\n",
       "      <td>0</td>\n",
       "      <td>https://d34a0mln2492j4.cloudfront.net/unsigned...</td>\n",
       "      <td>mrs frisby and the rats of nimh (a puffin book)</td>\n",
       "      <td>Robert C. O'Brien</td>\n",
       "      <td>₹304</td>\n",
       "      <td>Young Adults</td>\n",
       "      <td>Science Fiction &amp; Fantasy</td>\n",
       "      <td>Science Fiction</td>\n",
       "      <td>Mrs Frisby and the Rats of NIMH (A Puffin Book...</td>\n",
       "    </tr>\n",
       "    <tr>\n",
       "      <th>1</th>\n",
       "      <td>1</td>\n",
       "      <td>https://d34a0mln2492j4.cloudfront.net/unsigned...</td>\n",
       "      <td>the world inside</td>\n",
       "      <td>Robert Silverberg</td>\n",
       "      <td>₹1206</td>\n",
       "      <td>Young Adults</td>\n",
       "      <td>Science Fiction &amp; Fantasy</td>\n",
       "      <td>Science Fiction</td>\n",
       "      <td>The World Inside Robert Silverberg Young Adult...</td>\n",
       "    </tr>\n",
       "    <tr>\n",
       "      <th>2</th>\n",
       "      <td>2</td>\n",
       "      <td>https://d34a0mln2492j4.cloudfront.net/unsigned...</td>\n",
       "      <td>mr sammler's planet</td>\n",
       "      <td>Saul Bellow</td>\n",
       "      <td>₹388</td>\n",
       "      <td>Young Adults</td>\n",
       "      <td>Science Fiction &amp; Fantasy</td>\n",
       "      <td>Science Fiction</td>\n",
       "      <td>Mr Sammler's Planet Saul Bellow Young Adults S...</td>\n",
       "    </tr>\n",
       "    <tr>\n",
       "      <th>3</th>\n",
       "      <td>3</td>\n",
       "      <td>https://d34a0mln2492j4.cloudfront.net/unsigned...</td>\n",
       "      <td>project hail mary</td>\n",
       "      <td>Andy Weir</td>\n",
       "      <td>₹360</td>\n",
       "      <td>Young Adults</td>\n",
       "      <td>Science Fiction &amp; Fantasy</td>\n",
       "      <td>Science Fiction</td>\n",
       "      <td>Project Hail Mary Andy Weir Young Adults Scien...</td>\n",
       "    </tr>\n",
       "    <tr>\n",
       "      <th>4</th>\n",
       "      <td>4</td>\n",
       "      <td>https://d34a0mln2492j4.cloudfront.net/unsigned...</td>\n",
       "      <td>stranger in a strange land</td>\n",
       "      <td>Robert A. Heinlein</td>\n",
       "      <td>₹787</td>\n",
       "      <td>Young Adults</td>\n",
       "      <td>Science Fiction &amp; Fantasy</td>\n",
       "      <td>Science Fiction</td>\n",
       "      <td>Stranger in a Strange Land Robert A. Heinlein ...</td>\n",
       "    </tr>\n",
       "    <tr>\n",
       "      <th>...</th>\n",
       "      <td>...</td>\n",
       "      <td>...</td>\n",
       "      <td>...</td>\n",
       "      <td>...</td>\n",
       "      <td>...</td>\n",
       "      <td>...</td>\n",
       "      <td>...</td>\n",
       "      <td>...</td>\n",
       "      <td>...</td>\n",
       "    </tr>\n",
       "    <tr>\n",
       "      <th>176889</th>\n",
       "      <td>176889</td>\n",
       "      <td>https://d34a0mln2492j4.cloudfront.net/unsigned...</td>\n",
       "      <td>the voltage effect</td>\n",
       "      <td>John A List</td>\n",
       "      <td>₹502</td>\n",
       "      <td>Non-Fiction</td>\n",
       "      <td>Self-help and Wellness</td>\n",
       "      <td>Health , Fitness and Nutrition</td>\n",
       "      <td>The Voltage Effect John A List Non-Fiction Sel...</td>\n",
       "    </tr>\n",
       "    <tr>\n",
       "      <th>176890</th>\n",
       "      <td>176890</td>\n",
       "      <td>https://d34a0mln2492j4.cloudfront.net/unsigned...</td>\n",
       "      <td>why has nobody told me this before? the no 1 s...</td>\n",
       "      <td>Julie Smith</td>\n",
       "      <td>₹502</td>\n",
       "      <td>Non-Fiction</td>\n",
       "      <td>Self-help and Wellness</td>\n",
       "      <td>Health , Fitness and Nutrition</td>\n",
       "      <td>Why Has Nobody Told Me This Before? The No 1 S...</td>\n",
       "    </tr>\n",
       "    <tr>\n",
       "      <th>176891</th>\n",
       "      <td>176891</td>\n",
       "      <td>https://d34a0mln2492j4.cloudfront.net/unsigned...</td>\n",
       "      <td>kama sutra workout</td>\n",
       "      <td>DK</td>\n",
       "      <td>₹599</td>\n",
       "      <td>Non-Fiction</td>\n",
       "      <td>Self-help and Wellness</td>\n",
       "      <td>Health , Fitness and Nutrition</td>\n",
       "      <td>Kama Sutra Workout DK Non-Fiction Self-help an...</td>\n",
       "    </tr>\n",
       "    <tr>\n",
       "      <th>176892</th>\n",
       "      <td>176892</td>\n",
       "      <td>data:image/gif;base64,R0lGODlhAQABAIAAAAAAAP//...</td>\n",
       "      <td>dr. atkins' new carbohydrate gram counter</td>\n",
       "      <td>M.D. Robert C. Atkins</td>\n",
       "      <td>₹192</td>\n",
       "      <td>Non-Fiction</td>\n",
       "      <td>Self-help and Wellness</td>\n",
       "      <td>Health , Fitness and Nutrition</td>\n",
       "      <td>Dr. Atkins' New Carbohydrate Gram Counter M.D....</td>\n",
       "    </tr>\n",
       "    <tr>\n",
       "      <th>176893</th>\n",
       "      <td>176893</td>\n",
       "      <td>data:image/gif;base64,R0lGODlhAQABAIAAAAAAAP//...</td>\n",
       "      <td>energize your mind learn the art of mastering ...</td>\n",
       "      <td>Das Gaur Gopal</td>\n",
       "      <td>₹229</td>\n",
       "      <td>Non-Fiction</td>\n",
       "      <td>Self-help and Wellness</td>\n",
       "      <td>Health , Fitness and Nutrition</td>\n",
       "      <td>Energize Your Mind Learn the Art of Mastering ...</td>\n",
       "    </tr>\n",
       "  </tbody>\n",
       "</table>\n",
       "<p>176894 rows × 9 columns</p>\n",
       "</div>"
      ],
      "text/plain": [
       "        Unnamed: 0                                                URL  \\\n",
       "0                0  https://d34a0mln2492j4.cloudfront.net/unsigned...   \n",
       "1                1  https://d34a0mln2492j4.cloudfront.net/unsigned...   \n",
       "2                2  https://d34a0mln2492j4.cloudfront.net/unsigned...   \n",
       "3                3  https://d34a0mln2492j4.cloudfront.net/unsigned...   \n",
       "4                4  https://d34a0mln2492j4.cloudfront.net/unsigned...   \n",
       "...            ...                                                ...   \n",
       "176889      176889  https://d34a0mln2492j4.cloudfront.net/unsigned...   \n",
       "176890      176890  https://d34a0mln2492j4.cloudfront.net/unsigned...   \n",
       "176891      176891  https://d34a0mln2492j4.cloudfront.net/unsigned...   \n",
       "176892      176892  data:image/gif;base64,R0lGODlhAQABAIAAAAAAAP//...   \n",
       "176893      176893  data:image/gif;base64,R0lGODlhAQABAIAAAAAAAP//...   \n",
       "\n",
       "                                                Book_Name  \\\n",
       "0         mrs frisby and the rats of nimh (a puffin book)   \n",
       "1                                        the world inside   \n",
       "2                                     mr sammler's planet   \n",
       "3                                       project hail mary   \n",
       "4                              stranger in a strange land   \n",
       "...                                                   ...   \n",
       "176889                                 the voltage effect   \n",
       "176890  why has nobody told me this before? the no 1 s...   \n",
       "176891                                 kama sutra workout   \n",
       "176892          dr. atkins' new carbohydrate gram counter   \n",
       "176893  energize your mind learn the art of mastering ...   \n",
       "\n",
       "                       Author  Price         Genre                   Category  \\\n",
       "0           Robert C. O'Brien   ₹304  Young Adults  Science Fiction & Fantasy   \n",
       "1           Robert Silverberg  ₹1206  Young Adults  Science Fiction & Fantasy   \n",
       "2                 Saul Bellow   ₹388  Young Adults  Science Fiction & Fantasy   \n",
       "3                   Andy Weir   ₹360  Young Adults  Science Fiction & Fantasy   \n",
       "4          Robert A. Heinlein   ₹787  Young Adults  Science Fiction & Fantasy   \n",
       "...                       ...    ...           ...                        ...   \n",
       "176889            John A List   ₹502   Non-Fiction     Self-help and Wellness   \n",
       "176890            Julie Smith   ₹502   Non-Fiction     Self-help and Wellness   \n",
       "176891                     DK   ₹599   Non-Fiction     Self-help and Wellness   \n",
       "176892  M.D. Robert C. Atkins   ₹192   Non-Fiction     Self-help and Wellness   \n",
       "176893         Das Gaur Gopal   ₹229   Non-Fiction     Self-help and Wellness   \n",
       "\n",
       "                          Sub-Category  \\\n",
       "0                      Science Fiction   \n",
       "1                      Science Fiction   \n",
       "2                      Science Fiction   \n",
       "3                      Science Fiction   \n",
       "4                      Science Fiction   \n",
       "...                                ...   \n",
       "176889  Health , Fitness and Nutrition   \n",
       "176890  Health , Fitness and Nutrition   \n",
       "176891  Health , Fitness and Nutrition   \n",
       "176892  Health , Fitness and Nutrition   \n",
       "176893  Health , Fitness and Nutrition   \n",
       "\n",
       "                                                  combine  \n",
       "0       Mrs Frisby and the Rats of NIMH (A Puffin Book...  \n",
       "1       The World Inside Robert Silverberg Young Adult...  \n",
       "2       Mr Sammler's Planet Saul Bellow Young Adults S...  \n",
       "3       Project Hail Mary Andy Weir Young Adults Scien...  \n",
       "4       Stranger in a Strange Land Robert A. Heinlein ...  \n",
       "...                                                   ...  \n",
       "176889  The Voltage Effect John A List Non-Fiction Sel...  \n",
       "176890  Why Has Nobody Told Me This Before? The No 1 S...  \n",
       "176891  Kama Sutra Workout DK Non-Fiction Self-help an...  \n",
       "176892  Dr. Atkins' New Carbohydrate Gram Counter M.D....  \n",
       "176893  Energize Your Mind Learn the Art of Mastering ...  \n",
       "\n",
       "[176894 rows x 9 columns]"
      ]
     },
     "execution_count": 4,
     "metadata": {},
     "output_type": "execute_result"
    }
   ],
   "source": [
    "df"
   ]
  },
  {
   "cell_type": "code",
   "execution_count": 5,
   "id": "4ae55b01",
   "metadata": {},
   "outputs": [
    {
     "data": {
      "text/html": [
       "<div>\n",
       "<style scoped>\n",
       "    .dataframe tbody tr th:only-of-type {\n",
       "        vertical-align: middle;\n",
       "    }\n",
       "\n",
       "    .dataframe tbody tr th {\n",
       "        vertical-align: top;\n",
       "    }\n",
       "\n",
       "    .dataframe thead th {\n",
       "        text-align: right;\n",
       "    }\n",
       "</style>\n",
       "<table border=\"1\" class=\"dataframe\">\n",
       "  <thead>\n",
       "    <tr style=\"text-align: right;\">\n",
       "      <th></th>\n",
       "      <th>URL</th>\n",
       "      <th>Book_Name</th>\n",
       "      <th>Author</th>\n",
       "      <th>Price</th>\n",
       "      <th>Genre</th>\n",
       "      <th>Category</th>\n",
       "      <th>Sub-Category</th>\n",
       "      <th>combine</th>\n",
       "    </tr>\n",
       "  </thead>\n",
       "  <tbody>\n",
       "    <tr>\n",
       "      <th>0</th>\n",
       "      <td>https://d34a0mln2492j4.cloudfront.net/unsigned...</td>\n",
       "      <td>mrs frisby and the rats of nimh (a puffin book)</td>\n",
       "      <td>Robert C. O'Brien</td>\n",
       "      <td>₹304</td>\n",
       "      <td>Young Adults</td>\n",
       "      <td>Science Fiction &amp; Fantasy</td>\n",
       "      <td>Science Fiction</td>\n",
       "      <td>Mrs Frisby and the Rats of NIMH (A Puffin Book...</td>\n",
       "    </tr>\n",
       "    <tr>\n",
       "      <th>1</th>\n",
       "      <td>https://d34a0mln2492j4.cloudfront.net/unsigned...</td>\n",
       "      <td>the world inside</td>\n",
       "      <td>Robert Silverberg</td>\n",
       "      <td>₹1206</td>\n",
       "      <td>Young Adults</td>\n",
       "      <td>Science Fiction &amp; Fantasy</td>\n",
       "      <td>Science Fiction</td>\n",
       "      <td>The World Inside Robert Silverberg Young Adult...</td>\n",
       "    </tr>\n",
       "    <tr>\n",
       "      <th>2</th>\n",
       "      <td>https://d34a0mln2492j4.cloudfront.net/unsigned...</td>\n",
       "      <td>mr sammler's planet</td>\n",
       "      <td>Saul Bellow</td>\n",
       "      <td>₹388</td>\n",
       "      <td>Young Adults</td>\n",
       "      <td>Science Fiction &amp; Fantasy</td>\n",
       "      <td>Science Fiction</td>\n",
       "      <td>Mr Sammler's Planet Saul Bellow Young Adults S...</td>\n",
       "    </tr>\n",
       "    <tr>\n",
       "      <th>3</th>\n",
       "      <td>https://d34a0mln2492j4.cloudfront.net/unsigned...</td>\n",
       "      <td>project hail mary</td>\n",
       "      <td>Andy Weir</td>\n",
       "      <td>₹360</td>\n",
       "      <td>Young Adults</td>\n",
       "      <td>Science Fiction &amp; Fantasy</td>\n",
       "      <td>Science Fiction</td>\n",
       "      <td>Project Hail Mary Andy Weir Young Adults Scien...</td>\n",
       "    </tr>\n",
       "    <tr>\n",
       "      <th>4</th>\n",
       "      <td>https://d34a0mln2492j4.cloudfront.net/unsigned...</td>\n",
       "      <td>stranger in a strange land</td>\n",
       "      <td>Robert A. Heinlein</td>\n",
       "      <td>₹787</td>\n",
       "      <td>Young Adults</td>\n",
       "      <td>Science Fiction &amp; Fantasy</td>\n",
       "      <td>Science Fiction</td>\n",
       "      <td>Stranger in a Strange Land Robert A. Heinlein ...</td>\n",
       "    </tr>\n",
       "    <tr>\n",
       "      <th>...</th>\n",
       "      <td>...</td>\n",
       "      <td>...</td>\n",
       "      <td>...</td>\n",
       "      <td>...</td>\n",
       "      <td>...</td>\n",
       "      <td>...</td>\n",
       "      <td>...</td>\n",
       "      <td>...</td>\n",
       "    </tr>\n",
       "    <tr>\n",
       "      <th>176889</th>\n",
       "      <td>https://d34a0mln2492j4.cloudfront.net/unsigned...</td>\n",
       "      <td>the voltage effect</td>\n",
       "      <td>John A List</td>\n",
       "      <td>₹502</td>\n",
       "      <td>Non-Fiction</td>\n",
       "      <td>Self-help and Wellness</td>\n",
       "      <td>Health , Fitness and Nutrition</td>\n",
       "      <td>The Voltage Effect John A List Non-Fiction Sel...</td>\n",
       "    </tr>\n",
       "    <tr>\n",
       "      <th>176890</th>\n",
       "      <td>https://d34a0mln2492j4.cloudfront.net/unsigned...</td>\n",
       "      <td>why has nobody told me this before? the no 1 s...</td>\n",
       "      <td>Julie Smith</td>\n",
       "      <td>₹502</td>\n",
       "      <td>Non-Fiction</td>\n",
       "      <td>Self-help and Wellness</td>\n",
       "      <td>Health , Fitness and Nutrition</td>\n",
       "      <td>Why Has Nobody Told Me This Before? The No 1 S...</td>\n",
       "    </tr>\n",
       "    <tr>\n",
       "      <th>176891</th>\n",
       "      <td>https://d34a0mln2492j4.cloudfront.net/unsigned...</td>\n",
       "      <td>kama sutra workout</td>\n",
       "      <td>DK</td>\n",
       "      <td>₹599</td>\n",
       "      <td>Non-Fiction</td>\n",
       "      <td>Self-help and Wellness</td>\n",
       "      <td>Health , Fitness and Nutrition</td>\n",
       "      <td>Kama Sutra Workout DK Non-Fiction Self-help an...</td>\n",
       "    </tr>\n",
       "    <tr>\n",
       "      <th>176892</th>\n",
       "      <td>data:image/gif;base64,R0lGODlhAQABAIAAAAAAAP//...</td>\n",
       "      <td>dr. atkins' new carbohydrate gram counter</td>\n",
       "      <td>M.D. Robert C. Atkins</td>\n",
       "      <td>₹192</td>\n",
       "      <td>Non-Fiction</td>\n",
       "      <td>Self-help and Wellness</td>\n",
       "      <td>Health , Fitness and Nutrition</td>\n",
       "      <td>Dr. Atkins' New Carbohydrate Gram Counter M.D....</td>\n",
       "    </tr>\n",
       "    <tr>\n",
       "      <th>176893</th>\n",
       "      <td>data:image/gif;base64,R0lGODlhAQABAIAAAAAAAP//...</td>\n",
       "      <td>energize your mind learn the art of mastering ...</td>\n",
       "      <td>Das Gaur Gopal</td>\n",
       "      <td>₹229</td>\n",
       "      <td>Non-Fiction</td>\n",
       "      <td>Self-help and Wellness</td>\n",
       "      <td>Health , Fitness and Nutrition</td>\n",
       "      <td>Energize Your Mind Learn the Art of Mastering ...</td>\n",
       "    </tr>\n",
       "  </tbody>\n",
       "</table>\n",
       "<p>176894 rows × 8 columns</p>\n",
       "</div>"
      ],
      "text/plain": [
       "                                                      URL  \\\n",
       "0       https://d34a0mln2492j4.cloudfront.net/unsigned...   \n",
       "1       https://d34a0mln2492j4.cloudfront.net/unsigned...   \n",
       "2       https://d34a0mln2492j4.cloudfront.net/unsigned...   \n",
       "3       https://d34a0mln2492j4.cloudfront.net/unsigned...   \n",
       "4       https://d34a0mln2492j4.cloudfront.net/unsigned...   \n",
       "...                                                   ...   \n",
       "176889  https://d34a0mln2492j4.cloudfront.net/unsigned...   \n",
       "176890  https://d34a0mln2492j4.cloudfront.net/unsigned...   \n",
       "176891  https://d34a0mln2492j4.cloudfront.net/unsigned...   \n",
       "176892  data:image/gif;base64,R0lGODlhAQABAIAAAAAAAP//...   \n",
       "176893  data:image/gif;base64,R0lGODlhAQABAIAAAAAAAP//...   \n",
       "\n",
       "                                                Book_Name  \\\n",
       "0         mrs frisby and the rats of nimh (a puffin book)   \n",
       "1                                        the world inside   \n",
       "2                                     mr sammler's planet   \n",
       "3                                       project hail mary   \n",
       "4                              stranger in a strange land   \n",
       "...                                                   ...   \n",
       "176889                                 the voltage effect   \n",
       "176890  why has nobody told me this before? the no 1 s...   \n",
       "176891                                 kama sutra workout   \n",
       "176892          dr. atkins' new carbohydrate gram counter   \n",
       "176893  energize your mind learn the art of mastering ...   \n",
       "\n",
       "                       Author  Price         Genre                   Category  \\\n",
       "0           Robert C. O'Brien   ₹304  Young Adults  Science Fiction & Fantasy   \n",
       "1           Robert Silverberg  ₹1206  Young Adults  Science Fiction & Fantasy   \n",
       "2                 Saul Bellow   ₹388  Young Adults  Science Fiction & Fantasy   \n",
       "3                   Andy Weir   ₹360  Young Adults  Science Fiction & Fantasy   \n",
       "4          Robert A. Heinlein   ₹787  Young Adults  Science Fiction & Fantasy   \n",
       "...                       ...    ...           ...                        ...   \n",
       "176889            John A List   ₹502   Non-Fiction     Self-help and Wellness   \n",
       "176890            Julie Smith   ₹502   Non-Fiction     Self-help and Wellness   \n",
       "176891                     DK   ₹599   Non-Fiction     Self-help and Wellness   \n",
       "176892  M.D. Robert C. Atkins   ₹192   Non-Fiction     Self-help and Wellness   \n",
       "176893         Das Gaur Gopal   ₹229   Non-Fiction     Self-help and Wellness   \n",
       "\n",
       "                          Sub-Category  \\\n",
       "0                      Science Fiction   \n",
       "1                      Science Fiction   \n",
       "2                      Science Fiction   \n",
       "3                      Science Fiction   \n",
       "4                      Science Fiction   \n",
       "...                                ...   \n",
       "176889  Health , Fitness and Nutrition   \n",
       "176890  Health , Fitness and Nutrition   \n",
       "176891  Health , Fitness and Nutrition   \n",
       "176892  Health , Fitness and Nutrition   \n",
       "176893  Health , Fitness and Nutrition   \n",
       "\n",
       "                                                  combine  \n",
       "0       Mrs Frisby and the Rats of NIMH (A Puffin Book...  \n",
       "1       The World Inside Robert Silverberg Young Adult...  \n",
       "2       Mr Sammler's Planet Saul Bellow Young Adults S...  \n",
       "3       Project Hail Mary Andy Weir Young Adults Scien...  \n",
       "4       Stranger in a Strange Land Robert A. Heinlein ...  \n",
       "...                                                   ...  \n",
       "176889  The Voltage Effect John A List Non-Fiction Sel...  \n",
       "176890  Why Has Nobody Told Me This Before? The No 1 S...  \n",
       "176891  Kama Sutra Workout DK Non-Fiction Self-help an...  \n",
       "176892  Dr. Atkins' New Carbohydrate Gram Counter M.D....  \n",
       "176893  Energize Your Mind Learn the Art of Mastering ...  \n",
       "\n",
       "[176894 rows x 8 columns]"
      ]
     },
     "execution_count": 5,
     "metadata": {},
     "output_type": "execute_result"
    }
   ],
   "source": [
    "df.drop('Unnamed: 0',axis=1)"
   ]
  },
  {
   "cell_type": "code",
   "execution_count": 6,
   "id": "cb7ca38b",
   "metadata": {},
   "outputs": [
    {
     "data": {
      "text/plain": [
       "<Axes: xlabel='Genre', ylabel='Count'>"
      ]
     },
     "execution_count": 6,
     "metadata": {},
     "output_type": "execute_result"
    },
    {
     "data": {
      "image/png": "[encoded data removed]",
      "text/plain": [
       "<Figure size 1600x800 with 1 Axes>"
      ]
     },
     "metadata": {},
     "output_type": "display_data"
    }
   ],
   "source": [
    "plt.figure(figsize=(16,8))\n",
    "sns.histplot(df['Genre'])"
   ]
  },
  {
   "cell_type": "code",
   "execution_count": 7,
   "id": "b9641f7b",
   "metadata": {},
   "outputs": [
    {
     "data": {
      "text/plain": [
       "176894"
      ]
     },
     "execution_count": 7,
     "metadata": {},
     "output_type": "execute_result"
    }
   ],
   "source": [
    "df['Book_Name'].nunique()"
   ]
  },
  {
   "cell_type": "code",
   "execution_count": 8,
   "id": "c3f44107",
   "metadata": {},
   "outputs": [
    {
     "data": {
      "text/plain": [
       "(176894, 9)"
      ]
     },
     "execution_count": 8,
     "metadata": {},
     "output_type": "execute_result"
    }
   ],
   "source": [
    "df.shape"
   ]
  },
  {
   "cell_type": "code",
   "execution_count": 9,
   "id": "8df0e5ad",
   "metadata": {},
   "outputs": [],
   "source": [
    "df = df.loc[df['Book_Name'].drop_duplicates(keep='first').index]"
   ]
  },
  {
   "cell_type": "code",
   "execution_count": 10,
   "id": "7407f335",
   "metadata": {},
   "outputs": [
    {
     "data": {
      "text/plain": [
       "(176894, 9)"
      ]
     },
     "execution_count": 10,
     "metadata": {},
     "output_type": "execute_result"
    }
   ],
   "source": [
    "df.shape"
   ]
  },
  {
   "cell_type": "code",
   "execution_count": 11,
   "id": "a0248baa",
   "metadata": {},
   "outputs": [],
   "source": [
    "df.drop(\"combine\",axis=1,inplace=True)"
   ]
  },
  {
   "cell_type": "code",
   "execution_count": 12,
   "id": "70d3fb1a",
   "metadata": {},
   "outputs": [],
   "source": [
    "df['Combine_Book_Text'] = df['Book_Name']+' '+df['Author']+' '+df['Genre']+' '+df['Category']+' '+df['Sub-Category']"
   ]
  },
  {
   "cell_type": "code",
   "execution_count": 13,
   "id": "d1786f1e",
   "metadata": {},
   "outputs": [],
   "source": [
    "from sklearn.feature_extraction.text import TfidfVectorizer\n",
    "vect = TfidfVectorizer()"
   ]
  },
  {
   "cell_type": "code",
   "execution_count": 14,
   "id": "6f086995",
   "metadata": {},
   "outputs": [],
   "source": [
    "transform_text = vect.fit_transform(df['Combine_Book_Text'])"
   ]
  },
  {
   "cell_type": "code",
   "execution_count": 15,
   "id": "ab7a6584",
   "metadata": {},
   "outputs": [
    {
     "data": {
      "text/plain": [
       "(176894, 140568)"
      ]
     },
     "execution_count": 15,
     "metadata": {},
     "output_type": "execute_result"
    }
   ],
   "source": [
    "transform_text.shape"
   ]
  },
  {
   "cell_type": "code",
   "execution_count": 16,
   "id": "e4ed0cd0",
   "metadata": {},
   "outputs": [
    {
     "data": {
      "text/html": [
       "<style>#sk-container-id-1 {color: black;}#sk-container-id-1 pre{padding: 0;}#sk-container-id-1 div.sk-toggleable {background-color: white;}#sk-container-id-1 label.sk-toggleable__label {cursor: pointer;display: block;width: 100%;margin-bottom: 0;padding: 0.3em;box-sizing: border-box;text-align: center;}#sk-container-id-1 label.sk-toggleable__label-arrow:before {content: \"▸\";float: left;margin-right: 0.25em;color: #696969;}#sk-container-id-1 label.sk-toggleable__label-arrow:hover:before {color: black;}#sk-container-id-1 div.sk-estimator:hover label.sk-toggleable__label-arrow:before {color: black;}#sk-container-id-1 div.sk-toggleable__content {max-height: 0;max-width: 0;overflow: hidden;text-align: left;background-color: #f0f8ff;}#sk-container-id-1 div.sk-toggleable__content pre {margin: 0.2em;color: black;border-radius: 0.25em;background-color: #f0f8ff;}#sk-container-id-1 input.sk-toggleable__control:checked~div.sk-toggleable__content {max-height: 200px;max-width: 100%;overflow: auto;}#sk-container-id-1 input.sk-toggleable__control:checked~label.sk-toggleable__label-arrow:before {content: \"▾\";}#sk-container-id-1 div.sk-estimator input.sk-toggleable__control:checked~label.sk-toggleable__label {background-color: #d4ebff;}#sk-container-id-1 div.sk-label input.sk-toggleable__control:checked~label.sk-toggleable__label {background-color: #d4ebff;}#sk-container-id-1 input.sk-hidden--visually {border: 0;clip: rect(1px 1px 1px 1px);clip: rect(1px, 1px, 1px, 1px);height: 1px;margin: -1px;overflow: hidden;padding: 0;position: absolute;width: 1px;}#sk-container-id-1 div.sk-estimator {font-family: monospace;background-color: #f0f8ff;border: 1px dotted black;border-radius: 0.25em;box-sizing: border-box;margin-bottom: 0.5em;}#sk-container-id-1 div.sk-estimator:hover {background-color: #d4ebff;}#sk-container-id-1 div.sk-parallel-item::after {content: \"\";width: 100%;border-bottom: 1px solid gray;flex-grow: 1;}#sk-container-id-1 div.sk-label:hover label.sk-toggleable__label {background-color: #d4ebff;}#sk-container-id-1 div.sk-serial::before {content: \"\";position: absolute;border-left: 1px solid gray;box-sizing: border-box;top: 0;bottom: 0;left: 50%;z-index: 0;}#sk-container-id-1 div.sk-serial {display: flex;flex-direction: column;align-items: center;background-color: white;padding-right: 0.2em;padding-left: 0.2em;position: relative;}#sk-container-id-1 div.sk-item {position: relative;z-index: 1;}#sk-container-id-1 div.sk-parallel {display: flex;align-items: stretch;justify-content: center;background-color: white;position: relative;}#sk-container-id-1 div.sk-item::before, #sk-container-id-1 div.sk-parallel-item::before {content: \"\";position: absolute;border-left: 1px solid gray;box-sizing: border-box;top: 0;bottom: 0;left: 50%;z-index: -1;}#sk-container-id-1 div.sk-parallel-item {display: flex;flex-direction: column;z-index: 1;position: relative;background-color: white;}#sk-container-id-1 div.sk-parallel-item:first-child::after {align-self: flex-end;width: 50%;}#sk-container-id-1 div.sk-parallel-item:last-child::after {align-self: flex-start;width: 50%;}#sk-container-id-1 div.sk-parallel-item:only-child::after {width: 0;}#sk-container-id-1 div.sk-dashed-wrapped {border: 1px dashed gray;margin: 0 0.4em 0.5em 0.4em;box-sizing: border-box;padding-bottom: 0.4em;background-color: white;}#sk-container-id-1 div.sk-label label {font-family: monospace;font-weight: bold;display: inline-block;line-height: 1.2em;}#sk-container-id-1 div.sk-label-container {text-align: center;}#sk-container-id-1 div.sk-container {/* jupyter's `normalize.less` sets `[hidden] { display: none; }` but bootstrap.min.css set `[hidden] { display: none !important; }` so we also need the `!important` here to be able to override the default hidden behavior on the sphinx rendered scikit-learn.org. See: https://github.com/scikit-learn/scikit-learn/issues/21755 */display: inline-block !important;position: relative;}#sk-container-id-1 div.sk-text-repr-fallback {display: none;}</style><div id=\"sk-container-id-1\" class=\"sk-top-container\"><div class=\"sk-text-repr-fallback\"><pre>NearestNeighbors()</pre><b>In a Jupyter environment, please rerun this cell to show the HTML representation or trust the notebook. <br />On GitHub, the HTML representation is unable to render, please try loading this page with nbviewer.org.</b></div><div class=\"sk-container\" hidden><div class=\"sk-item\"><div class=\"sk-estimator sk-toggleable\"><input class=\"sk-toggleable__control sk-hidden--visually\" id=\"sk-estimator-id-1\" type=\"checkbox\" checked><label for=\"sk-estimator-id-1\" class=\"sk-toggleable__label sk-toggleable__label-arrow\">NearestNeighbors</label><div class=\"sk-toggleable__content\"><pre>NearestNeighbors()</pre></div></div></div></div></div>"
      ],
      "text/plain": [
       "NearestNeighbors()"
      ]
     },
     "execution_count": 16,
     "metadata": {},
     "output_type": "execute_result"
    }
   ],
   "source": [
    "from sklearn.neighbors import NearestNeighbors\n",
    "model = NearestNeighbors()\n",
    "model.fit(transform_text)"
   ]
  },
  {
   "cell_type": "code",
   "execution_count": 17,
   "id": "0fc51eb8",
   "metadata": {},
   "outputs": [],
   "source": [
    "# Predict the nearest neighbors for a new text input\n",
    "new_text = \"selfish gene anthropology\"\n",
    "new_text_vector = vect.transform([new_text])\n",
    "\n",
    "distances, indices = model.kneighbors(new_text_vector)"
   ]
  },
  {
   "cell_type": "code",
   "execution_count": 18,
   "id": "0e3b6a45",
   "metadata": {},
   "outputs": [
    {
     "data": {
      "text/plain": [
       "array([[ 40990, 137126,  40768,  74368,  40845]], dtype=int64)"
      ]
     },
     "execution_count": 18,
     "metadata": {},
     "output_type": "execute_result"
    }
   ],
   "source": [
    "indices"
   ]
  },
  {
   "cell_type": "code",
   "execution_count": 19,
   "id": "0bc27f2d",
   "metadata": {},
   "outputs": [],
   "source": [
    "def book_recommend(book_name):\n",
    "    book_urls = []\n",
    "    book_names = []\n",
    "    book_authors = []\n",
    "    book_price = []\n",
    "    book_vec = vect.transform([book_name])\n",
    "    distance, indices = model.kneighbors(book_vec, n_neighbors=6)\n",
    "    for i in indices[0]:\n",
    "        book_urls.append(df['URL'].loc[i])\n",
    "        book_names.append(df['Book_Name'].loc[i])\n",
    "        book_authors.append(df['Author'].loc[i])\n",
    "        book_price.append(df['Price'].loc[i])\n",
    "    #return book_names,book_authors,book_price\n",
    "    recommendations = pd.DataFrame({\n",
    "        'Book_Name': book_names,\n",
    "        'Author': book_authors,\n",
    "        'Price': book_price,\n",
    "        'URL': book_urls\n",
    "    })\n",
    "    return recommendations"
   ]
  },
  {
   "cell_type": "code",
   "execution_count": 20,
   "id": "9b98c8e2",
   "metadata": {},
   "outputs": [
    {
     "data": {
      "text/html": [
       "<div>\n",
       "<style scoped>\n",
       "    .dataframe tbody tr th:only-of-type {\n",
       "        vertical-align: middle;\n",
       "    }\n",
       "\n",
       "    .dataframe tbody tr th {\n",
       "        vertical-align: top;\n",
       "    }\n",
       "\n",
       "    .dataframe thead th {\n",
       "        text-align: right;\n",
       "    }\n",
       "</style>\n",
       "<table border=\"1\" class=\"dataframe\">\n",
       "  <thead>\n",
       "    <tr style=\"text-align: right;\">\n",
       "      <th></th>\n",
       "      <th>Book_Name</th>\n",
       "      <th>Author</th>\n",
       "      <th>Price</th>\n",
       "      <th>URL</th>\n",
       "    </tr>\n",
       "  </thead>\n",
       "  <tbody>\n",
       "    <tr>\n",
       "      <th>0</th>\n",
       "      <td>indian anthropology</td>\n",
       "      <td>UNKNOWN</td>\n",
       "      <td>₹363</td>\n",
       "      <td>https://d34a0mln2492j4.cloudfront.net/unsigned...</td>\n",
       "    </tr>\n",
       "    <tr>\n",
       "      <th>1</th>\n",
       "      <td>a selfish purpose: 6 (nine kingdoms)</td>\n",
       "      <td>Ann Bakshis</td>\n",
       "      <td>₹623</td>\n",
       "      <td>https://d34a0mln2492j4.cloudfront.net/unsigned...</td>\n",
       "    </tr>\n",
       "    <tr>\n",
       "      <th>2</th>\n",
       "      <td>an anthropology of anthropology</td>\n",
       "      <td>Robert Borofsky</td>\n",
       "      <td>₹1417</td>\n",
       "      <td>https://d34a0mln2492j4.cloudfront.net/unsigned...</td>\n",
       "    </tr>\n",
       "    <tr>\n",
       "      <th>3</th>\n",
       "      <td>the selfish gaint</td>\n",
       "      <td>Oscar Wilde</td>\n",
       "      <td>₹75</td>\n",
       "      <td>https://d34a0mln2492j4.cloudfront.net/unsigned...</td>\n",
       "    </tr>\n",
       "    <tr>\n",
       "      <th>4</th>\n",
       "      <td>honor and grace in anthropology</td>\n",
       "      <td>UNKNOWN</td>\n",
       "      <td>₹3705</td>\n",
       "      <td>data:image/gif;base64,R0lGODlhAQABAIAAAAAAAP//...</td>\n",
       "    </tr>\n",
       "    <tr>\n",
       "      <th>5</th>\n",
       "      <td>social anthropology</td>\n",
       "      <td>D. F. Pocock</td>\n",
       "      <td>₹325</td>\n",
       "      <td>https://d34a0mln2492j4.cloudfront.net/unsigned...</td>\n",
       "    </tr>\n",
       "  </tbody>\n",
       "</table>\n",
       "</div>"
      ],
      "text/plain": [
       "                              Book_Name           Author  Price  \\\n",
       "0                   indian anthropology          UNKNOWN   ₹363   \n",
       "1  a selfish purpose: 6 (nine kingdoms)      Ann Bakshis   ₹623   \n",
       "2       an anthropology of anthropology  Robert Borofsky  ₹1417   \n",
       "3                     the selfish gaint      Oscar Wilde    ₹75   \n",
       "4       honor and grace in anthropology          UNKNOWN  ₹3705   \n",
       "5                   social anthropology     D. F. Pocock   ₹325   \n",
       "\n",
       "                                                 URL  \n",
       "0  https://d34a0mln2492j4.cloudfront.net/unsigned...  \n",
       "1  https://d34a0mln2492j4.cloudfront.net/unsigned...  \n",
       "2  https://d34a0mln2492j4.cloudfront.net/unsigned...  \n",
       "3  https://d34a0mln2492j4.cloudfront.net/unsigned...  \n",
       "4  data:image/gif;base64,R0lGODlhAQABAIAAAAAAAP//...  \n",
       "5  https://d34a0mln2492j4.cloudfront.net/unsigned...  "
      ]
     },
     "execution_count": 20,
     "metadata": {},
     "output_type": "execute_result"
    }
   ],
   "source": [
    "book_recommend('selfish gene anthropology')"
   ]
  },
  {
   "cell_type": "code",
   "execution_count": null,
   "id": "8fea59d1",
   "metadata": {},
   "outputs": [],
   "source": []
  },
  {
   "cell_type": "code",
   "execution_count": null,
   "id": "7a3e6aaf",
   "metadata": {},
   "outputs": [],
   "source": []
  },
  {
   "cell_type": "code",
   "execution_count": null,
   "id": "27503724",
   "metadata": {},
   "outputs": [],
   "source": []
  }
 ],
 "metadata": {
  "kernelspec": {
   "display_name": "Python 3 (ipykernel)",
   "language": "python",
   "name": "python3"
  },
  "language_info": {
   "codemirror_mode": {
    "name": "ipython",
    "version": 3
   },
   "file_extension": ".py",
   "mimetype": "text/x-python",
   "name": "python",
   "nbconvert_exporter": "python",
   "pygments_lexer": "ipython3",
   "version": "3.11.4"
  }
 },
 "nbformat": 4,
 "nbformat_minor": 5
}
